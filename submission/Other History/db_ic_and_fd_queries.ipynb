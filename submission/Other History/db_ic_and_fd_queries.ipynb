{
 "cells": [
  {
   "cell_type": "markdown",
   "metadata": {},
   "source": [
    "# **IF AND FD QUERIES**\n",
    "---\n",
    "This notebook checks the integrity constraints and fundemenatal dependecies in the cleaned database."
   ]
  },
  {
   "cell_type": "code",
   "execution_count": null,
   "metadata": {},
   "outputs": [],
   "source": [
    "import sqlite3\n",
    "import pandas as pd\n",
    "db = sqlite3.connect('../data/clean_data/food_inspections.db')\n",
    "cur = db.cursor()"
   ]
  },
  {
   "cell_type": "code",
   "execution_count": null,
   "metadata": {},
   "outputs": [],
   "source": [
    "# Check null values in primary keys for table Establishments\n",
    "\n",
    "N_E = '''\n",
    "SELECT * \n",
    "FROM Establishments \n",
    "WHERE estID IS NULL\n",
    "\n",
    "'''\n",
    "cur.execute(N_E)\n",
    "df = pd.read_sql_query(N_E, db)\n",
    "df.head(10)\n"
   ]
  },
  {
   "cell_type": "code",
   "execution_count": null,
   "metadata": {},
   "outputs": [],
   "source": [
    "# Check null values in primary keys for table EstablishmentInspections\n",
    "\n",
    "N_EI = '''\n",
    "SELECT * \n",
    "FROM EstablishmentInspections\n",
    "WHERE estID IS NULL OR inspecID IS NULL\n",
    " \n",
    "\n",
    "'''\n",
    "cur.execute(N_EI)\n",
    "df = pd.read_sql_query(N_EI, db)\n",
    "df.head(10)"
   ]
  },
  {
   "cell_type": "code",
   "execution_count": null,
   "metadata": {},
   "outputs": [],
   "source": [
    "# Check null values in primary keys for table Inspections\n",
    "\n",
    "N_EI = '''\n",
    "SELECT * \n",
    "FROM Inspections\n",
    "WHERE inspecID IS NULL\n",
    " \n",
    "\n",
    "'''\n",
    "cur.execute(N_EI)\n",
    "df = pd.read_sql_query(N_EI, db)\n",
    "df.head(10)"
   ]
  },
  {
   "cell_type": "code",
   "execution_count": null,
   "metadata": {},
   "outputs": [],
   "source": [
    "# Check IC between tables EstablishmentInspections, Establishments\n",
    "ICV_E_EI = '''\n",
    "SELECT ei.estID\n",
    "FROM EstablishmentInspections AS ei \n",
    "WHERE ei.estID NOT IN (SELECT estID FROM Establishments)\n",
    "\n",
    "'''\n",
    "cur.execute(ICV_E_EI)\n",
    "df = pd.read_sql_query(ICV_E_EI, db)\n",
    "df.head(10)"
   ]
  },
  {
   "cell_type": "code",
   "execution_count": null,
   "metadata": {},
   "outputs": [],
   "source": [
    "# Check IC between tables Inspections, EstablishmentInspections\n",
    "\n",
    "ICV_EI_I = '''\n",
    "SELECT inspecID\n",
    "FROM Inspections \n",
    "WHERE inspecID NOT IN (SELECT inspecID FROM EstablishmentInspections)\n",
    "\n",
    "'''\n",
    "cur.execute(ICV_EI_I)\n",
    "df = pd.read_sql_query(ICV_EI_I, db)\n",
    "df.head(10)"
   ]
  },
  {
   "cell_type": "code",
   "execution_count": null,
   "metadata": {},
   "outputs": [],
   "source": [
    "# Check duplicate keys on table Establishments\n",
    "\n",
    "D1 = '''\n",
    "\n",
    "SELECT estID , COUNT(estID) as count_of_estID\n",
    "FROM Establishments\n",
    "GROUP BY estID\n",
    "HAVING COUNT(*) > 1\n",
    "\n",
    "'''\n",
    "cur.execute(D1)\n",
    "df = pd.read_sql_query(D1, db)\n",
    "df.head(10)\n"
   ]
  },
  {
   "cell_type": "code",
   "execution_count": null,
   "metadata": {},
   "outputs": [],
   "source": [
    "# Check duplicate keys on table EstablishmentInspections\n",
    "D2 = '''\n",
    "\n",
    "SELECT estID, inspecID, COUNT(*) as count\n",
    "FROM EstablishmentInspections\n",
    "GROUP BY estID,inspecID\n",
    "HAVING COUNT(*) > 1\n",
    "\n",
    "'''\n",
    "cur.execute(D2)\n",
    "df = pd.read_sql_query(D2, db)\n",
    "df.head(10)"
   ]
  },
  {
   "cell_type": "code",
   "execution_count": null,
   "metadata": {},
   "outputs": [],
   "source": [
    "# Check Integrity on table Inspections\n",
    "\n",
    "D3 = '''\n",
    "\n",
    "SELECT number\n",
    "FROM Inspections\n",
    "WHERE number NOT BETWEEN 1 and 70\n",
    "\n",
    "'''\n",
    "cur.execute(D3)\n",
    "df = pd.read_sql_query(D3, db)\n",
    "df.head(10)"
   ]
  },
  {
   "cell_type": "code",
   "execution_count": null,
   "metadata": {},
   "outputs": [],
   "source": [
    "# Check functional dependencies on table Establishments\n",
    "\n",
    "FD_E = '''\n",
    "\n",
    "SELECT E1.estName as ename1, E2.estName as ename2\n",
    "FROM Establishments as E1 , Establishments as E2\n",
    "WHERE E1.estID = E2.estID AND E1.estName != E2.estName\n",
    "\n",
    "'''\n",
    "cur.execute(FD_E)\n",
    "df = pd.read_sql_query(FD_E, db)\n",
    "df.head(10)"
   ]
  },
  {
   "cell_type": "code",
   "execution_count": null,
   "metadata": {},
   "outputs": [],
   "source": [
    "db.close()"
   ]
  }
 ],
 "metadata": {
  "kernelspec": {
   "display_name": "Python 3.10.4 ('python_env': venv)",
   "language": "python",
   "name": "python3"
  },
  "language_info": {
   "codemirror_mode": {
    "name": "ipython",
    "version": 3
   },
   "file_extension": ".py",
   "mimetype": "text/x-python",
   "name": "python",
   "nbconvert_exporter": "python",
   "pygments_lexer": "ipython3",
   "version": "3.10.4"
  },
  "vscode": {
   "interpreter": {
    "hash": "25c2d03719f650211ff758f4d2e2f17d99620e4efb15c9161a62ab02ce35660e"
   }
  }
 },
 "nbformat": 4,
 "nbformat_minor": 2
}
