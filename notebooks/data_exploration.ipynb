{
 "cells": [
  {
   "cell_type": "markdown",
   "metadata": {},
   "source": [
    "# Data Exploration\n",
    "\n",
    "This notebook goes through some of the fields we want to clean. We hope to identify some patterns we can use to clean the data."
   ]
  },
  {
   "cell_type": "code",
   "execution_count": 1,
   "metadata": {},
   "outputs": [],
   "source": [
    "# imports\n",
    "import pandas as pd\n",
    "import numpy as np"
   ]
  },
  {
   "cell_type": "code",
   "execution_count": 2,
   "metadata": {},
   "outputs": [
    {
     "ename": "",
     "evalue": "",
     "output_type": "error",
     "traceback": [
      "\u001b[1;31mCanceled future for execute_request message before replies were done"
     ]
    },
    {
     "ename": "",
     "evalue": "",
     "output_type": "error",
     "traceback": [
      "\u001b[1;31mThe Kernel crashed while executing code in the the current cell or a previous cell. Please review the code in the cell(s) to identify a possible cause of the failure. Click <a href='https://aka.ms/vscodeJupyterKernelCrash'>here</a> for more info. View Jupyter <a href='command:jupyter.viewOutput'>log</a> for further details."
     ]
    }
   ],
   "source": [
    "# import data\n",
    "food_ins_df = pd.read_csv(\"../data/Food_Inspections.csv\")"
   ]
  },
  {
   "cell_type": "markdown",
   "metadata": {},
   "source": [
    "## Violations\n",
    "\n",
    "The Violations columns contains a lot of unstructured information.\n",
    "\n",
    "ex.\n",
    "\n",
    "8. sanitizing rinse for equipment and utensils:  clean, proper temperature, concentration, exposure time - comments: no dish washing facilities on site, (no three compartment sink, with grease trap, or dishmachine), instructed to provide, | 11. adequate number, convenient, accessible, designed, and maintained - comments:  no exposed hand sink for rear service area, instructed to provide,\n",
    " | 18. no evidence of rodent or insect outer openings protected/rodent proofed, a written log shall be maintained available to the inspectors - comments: no license pest control log book at this time of inspection, instructed to provide, upon next visit\n",
    "\n",
    "There are three distinct part of each violation, of which there can be multiple in a single row entry. \n",
    "\n",
    "1. Violation Number \n",
    "2. Violation Description\n",
    "3. Comments\n",
    "\n",
    "---\n",
    "\n",
    "#### Weird Cases\n",
    "\n",
    "1. Sometimes violations have pretext like 'Serious Violation <number>' (row 6) or 'Critical Violation <number>' (row 6)\n",
    "2. A list of old violations can appear in the comments (row 6)\n",
    "\n",
    "---\n",
    "\n",
    "#### Assumptions\n",
    "\n",
    "  1. We are able to convert violations text to lowercase and lose no important meaning\n",
    "  2. We are able to use Regex to pull the numbers. \n",
    "      - all numbers match the pattern r'\\d+\\.' (number followed by period)\n",
    "  3. We are able to split the Violations on the number found before\n",
    "  4. We are able to split the violations description from comments on the string '- comments:'\n",
    "\n",
    "\n",
    "\n"
   ]
  },
  {
   "cell_type": "code",
   "execution_count": 3,
   "metadata": {},
   "outputs": [
    {
     "data": {
      "text/plain": [
       "\"\\nNot sure how to test this, looking through the data though I think this assumption is good. \\nThere doesn't seem to be any reason some things are all caps and others are not. I'm guessing\\nthese entries are copied directly from some PDF that is in all caps (lots of legal documents are).\\n\""
      ]
     },
     "execution_count": 3,
     "metadata": {},
     "output_type": "execute_result"
    }
   ],
   "source": [
    "# Assumption 1\n",
    "'''\n",
    "Not sure how to test this, looking through the data though I think this assumption is good. \n",
    "There doesn't seem to be any reason some things are all caps and others are not. I'm guessing\n",
    "these entries are copied directly from some PDF that is in all caps (lots of legal documents are).\n",
    "'''"
   ]
  },
  {
   "cell_type": "code",
   "execution_count": 4,
   "metadata": {},
   "outputs": [
    {
     "name": "stdout",
     "output_type": "stream",
     "text": [
      "There are 30798 null values for Violations\n",
      "rows left 123012\n",
      "Rows with numbers: 123012\n"
     ]
    },
    {
     "name": "stderr",
     "output_type": "stream",
     "text": [
      "C:\\Users\\Tyler\\AppData\\Local\\Temp\\ipykernel_57300\\1316920454.py:8: UserWarning: This pattern is interpreted as a regular expression, and has match groups. To actually get the groups, use str.extract.\n",
      "  contains_num = sec_assump_test['Violations'].str.contains(num_reg, regex=True)\n"
     ]
    }
   ],
   "source": [
    "# Assumption 2\n",
    "sec_assump_test = food_ins_df[['Violations']]\n",
    "total_rows = sec_assump_test.shape[0]\n",
    "sec_assump_test = sec_assump_test[sec_assump_test['Violations'].notna()]\n",
    "print(f'There are {total_rows - sec_assump_test.shape[0]} null values for Violations')\n",
    "print(f'rows left {sec_assump_test.shape[0]}')\n",
    "num_reg = r'(?:^|\\| )\\d+\\. '\n",
    "contains_num = sec_assump_test['Violations'].str.contains(num_reg, regex=True)\n",
    "print(f'Rows with numbers: {contains_num.sum()}')\n",
    "assert sec_assump_test.shape[0] == contains_num.sum()\n",
    "# GOOD ASSUMPTION\n",
    "#  - using the above regex, we are able to capture numbers in each row"
   ]
  },
  {
   "cell_type": "code",
   "execution_count": 5,
   "metadata": {},
   "outputs": [
    {
     "ename": "",
     "evalue": "",
     "output_type": "error",
     "traceback": [
      "\u001b[1;31mCanceled future for execute_request message before replies were done"
     ]
    },
    {
     "ename": "",
     "evalue": "",
     "output_type": "error",
     "traceback": [
      "\u001b[1;31mThe Kernel crashed while executing code in the the current cell or a previous cell. Please review the code in the cell(s) to identify a possible cause of the failure. Click <a href='https://aka.ms/vscodeJupyterKernelCrash'>here</a> for more info. View Jupyter <a href='command:jupyter.viewOutput'>log</a> for further details."
     ]
    }
   ],
   "source": [
    "# Assumption 3\n",
    "num_reg = r'(?:^|\\| )(\\d+\\. )'\n",
    "third_assump_test = food_ins_df[food_ins_df['Violations'].notna()][['Violations']]\n",
    "nums = third_assump_test['Violations'].str.extractall(num_reg)\n",
    "third_assump_test['v_num'] = nums.groupby(level=0)[0].apply(list)\n",
    "third_assump_test['list_violations'] = third_assump_test['Violations'].str.split(r'(?:^|\\| )\\d+\\. ', regex=True).apply(lambda x: x[1:])\n",
    "# get counts for the lists in each row for violations and violation numbers, ensure they are the same\n",
    "num_violations = third_assump_test['list_violations'].apply(lambda x: len(x))\n",
    "num_violations_nums = third_assump_test['v_num'].apply(lambda x: len(x))\n",
    "assert num_violations.equals(num_violations_nums)\n",
    "third_assump_test[1:1000].to_csv('test.csv')\n",
    "# GOOD ASSUMPTION\n",
    "#  - splitting on the regex creates the same number of violation numbers and violation text\n"
   ]
  },
  {
   "cell_type": "code",
   "execution_count": null,
   "metadata": {},
   "outputs": [
    {
     "name": "stdout",
     "output_type": "stream",
     "text": [
      "568654\n",
      "568654\n"
     ]
    }
   ],
   "source": [
    "# Assumption 4 \n",
    "fourth_assump_test = third_assump_test.explode(['list_violations', 'v_num'])\n",
    "fourth_assump_test['list_violations'] = fourth_assump_test['list_violations'].str.lower()\n",
    "has_comments = fourth_assump_test['list_violations'].str.contains('- comments:')\n",
    "print(has_comments.sum())\n",
    "print(fourth_assump_test.shape[0])\n",
    "assert fourth_assump_test.shape[0] == has_comments.sum()\n",
    "# GOOD ASSUMPTION \n",
    "#  - with the previous preprocessing, all rows have comments"
   ]
  },
  {
   "cell_type": "markdown",
   "metadata": {},
   "source": [
    "### Create Clean Violations function"
   ]
  },
  {
   "cell_type": "code",
   "execution_count": null,
   "metadata": {},
   "outputs": [
    {
     "ename": "",
     "evalue": "",
     "output_type": "error",
     "traceback": [
      "\u001b[1;31mCanceled future for execute_request message before replies were done"
     ]
    },
    {
     "ename": "",
     "evalue": "",
     "output_type": "error",
     "traceback": [
      "\u001b[1;31mThe Kernel crashed while executing code in the the current cell or a previous cell. Please review the code in the cell(s) to identify a possible cause of the failure. Click <a href='https://aka.ms/vscodeJupyterKernelCrash'>here</a> for more info. View Jupyter <a href='command:jupyter.viewOutput'>log</a> for further details."
     ]
    }
   ],
   "source": [
    "def clean_violations(df: pd.DataFrame): \n",
    "  df['Violations'] = df['Violations'].str.lower()\n",
    "  mask = df['Violations'].notna()\n",
    "  # create violation number column\n",
    "  num_reg = r'(?:^|\\| )(\\d+\\. )'\n",
    "  vio_nums = df.loc[mask, 'Violations'].str.extractall(num_reg)\n",
    "  df.loc[mask, 'v_num'] = vio_nums.groupby(level=0)[0].apply(list)\n",
    "  # create violation_temp\n",
    "  split_reg = r'(?:^|\\| )\\d+\\. '\n",
    "  df.loc[mask, 'vio_temp'] = df.loc[mask, 'Violations'].str.split(split_reg, regex=True).apply(lambda x: x[1:])\n",
    "  # split into individual rows for violations\n",
    "  df = df.explode(['vio_temp', 'v_num']).reset_index(drop=True)\n",
    "  exp_mask = df['Violations'].notna()\n",
    "  # create comment and desc violation columns\n",
    "  desc_split_reg = '- comments:'\n",
    "  df.loc[exp_mask, 'v_comment'] = df.loc[exp_mask, 'vio_temp'].str.split(desc_split_reg).apply(lambda x: x[-1] if len(x) > 1 else np.nan)\n",
    "  df.loc[exp_mask, 'v_desc'] = df.loc[exp_mask, 'vio_temp'].str.split(desc_split_reg).apply(lambda x: x[0])\n",
    "  df = df.drop(columns=['vio_temp'])\n",
    "  return df\n",
    "\n",
    "clean_vios = clean_violations(food_ins_df)\n",
    "print(f'rows: {clean_vios.shape[0]}')"
   ]
  }
 ],
 "metadata": {
  "kernelspec": {
   "display_name": "Python 3.10.4 ('python_env': venv)",
   "language": "python",
   "name": "python3"
  },
  "language_info": {
   "codemirror_mode": {
    "name": "ipython",
    "version": 3
   },
   "file_extension": ".py",
   "mimetype": "text/x-python",
   "name": "python",
   "nbconvert_exporter": "python",
   "pygments_lexer": "ipython3",
   "version": "3.10.4"
  },
  "orig_nbformat": 4,
  "vscode": {
   "interpreter": {
    "hash": "1e0dfc38e87bfd5e2d7e24c92a44e99cdc169bbcd5f4e92854cdad604f7521bb"
   }
  }
 },
 "nbformat": 4,
 "nbformat_minor": 2
}
