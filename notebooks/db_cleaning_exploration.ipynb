{
 "cells": [
  {
   "cell_type": "markdown",
   "metadata": {},
   "source": [
    "# **DATA EXPLORATION**\n",
    "---\n",
    "This notebook goes through some of the fields we want to clean. We hope to identify some patterns we can use to clean the data."
   ]
  },
  {
   "cell_type": "markdown",
   "metadata": {},
   "source": [
    "## **ESTABLISHMENT'S NAME**\n",
    "---"
   ]
  },
  {
   "cell_type": "code",
   "execution_count": 11,
   "metadata": {},
   "outputs": [],
   "source": [
    "import sqlite3\n",
    "import pandas as pd\n",
    "\n",
    "# dirty database\n",
    "db_dirty = sqlite3.connect('../data/dirty_data/dirty_food_inspections.db')\n",
    "cur = db_dirty.cursor()\n",
    "\n",
    "# clean database\n",
    "db_clean = sqlite3.connect('../data/clean_data/food_inspections.db')\n",
    "cur = db_clean.cursor()"
   ]
  },
  {
   "cell_type": "markdown",
   "metadata": {},
   "source": [
    "### **OVERVIEW**\n",
    "In the dataset, the establishment's names have issues with consistency. Many establishments with the same name are spelled differently or have uncessary information attached to it's name."
   ]
  },
  {
   "cell_type": "markdown",
   "metadata": {},
   "source": [
    "### **Dirty Data**\n",
    "\n",
    "The query shows the different forms the establishment **SUBWAY** can be respresented. Some differences include:\n",
    "\n",
    "* **address information** (e.g. LINCOLN AVE SUBWAY on row 6)\n",
    "\n",
    "* **number values** (e.g. SUBWAY #38326 on row 10)\n",
    "\n",
    "* **capitolization differences** (e.g. Lakeview Subway on row 7)\n"
   ]
  },
  {
   "cell_type": "code",
   "execution_count": 99,
   "metadata": {},
   "outputs": [
    {
     "data": {
      "text/html": [
       "<div>\n",
       "<style scoped>\n",
       "    .dataframe tbody tr th:only-of-type {\n",
       "        vertical-align: middle;\n",
       "    }\n",
       "\n",
       "    .dataframe tbody tr th {\n",
       "        vertical-align: top;\n",
       "    }\n",
       "\n",
       "    .dataframe thead th {\n",
       "        text-align: right;\n",
       "    }\n",
       "</style>\n",
       "<table border=\"1\" class=\"dataframe\">\n",
       "  <thead>\n",
       "    <tr style=\"text-align: right;\">\n",
       "      <th></th>\n",
       "      <th>Name</th>\n",
       "      <th>num of establishments</th>\n",
       "    </tr>\n",
       "  </thead>\n",
       "  <tbody>\n",
       "    <tr>\n",
       "      <th>0</th>\n",
       "      <td>ALWAYS OPEN - SUBWAY</td>\n",
       "      <td>1</td>\n",
       "    </tr>\n",
       "    <tr>\n",
       "      <th>1</th>\n",
       "      <td>C-K SUBWAY</td>\n",
       "      <td>1</td>\n",
       "    </tr>\n",
       "    <tr>\n",
       "      <th>2</th>\n",
       "      <td>CITGO SUBWAY</td>\n",
       "      <td>1</td>\n",
       "    </tr>\n",
       "    <tr>\n",
       "      <th>3</th>\n",
       "      <td>DOWNTOWN BP &amp; SUBWAY</td>\n",
       "      <td>1</td>\n",
       "    </tr>\n",
       "    <tr>\n",
       "      <th>4</th>\n",
       "      <td>FULLWEST BP GAS &amp; SUBWAY</td>\n",
       "      <td>1</td>\n",
       "    </tr>\n",
       "    <tr>\n",
       "      <th>5</th>\n",
       "      <td>LALO SUBWAY INC</td>\n",
       "      <td>1</td>\n",
       "    </tr>\n",
       "    <tr>\n",
       "      <th>6</th>\n",
       "      <td>LINCOLN AVE SUBWAY</td>\n",
       "      <td>1</td>\n",
       "    </tr>\n",
       "    <tr>\n",
       "      <th>7</th>\n",
       "      <td>Lakeview Subway</td>\n",
       "      <td>1</td>\n",
       "    </tr>\n",
       "    <tr>\n",
       "      <th>8</th>\n",
       "      <td>MADISON SUBWAY LLC</td>\n",
       "      <td>1</td>\n",
       "    </tr>\n",
       "    <tr>\n",
       "      <th>9</th>\n",
       "      <td>SUBWAY</td>\n",
       "      <td>213</td>\n",
       "    </tr>\n",
       "    <tr>\n",
       "      <th>10</th>\n",
       "      <td>SUBWAY  #38326</td>\n",
       "      <td>1</td>\n",
       "    </tr>\n",
       "    <tr>\n",
       "      <th>11</th>\n",
       "      <td>SUBWAY  5183</td>\n",
       "      <td>1</td>\n",
       "    </tr>\n",
       "    <tr>\n",
       "      <th>12</th>\n",
       "      <td>SUBWAY # 23333</td>\n",
       "      <td>1</td>\n",
       "    </tr>\n",
       "    <tr>\n",
       "      <th>13</th>\n",
       "      <td>SUBWAY # 26771</td>\n",
       "      <td>1</td>\n",
       "    </tr>\n",
       "    <tr>\n",
       "      <th>14</th>\n",
       "      <td>SUBWAY # 26817-309 W. MONROE</td>\n",
       "      <td>1</td>\n",
       "    </tr>\n",
       "  </tbody>\n",
       "</table>\n",
       "</div>"
      ],
      "text/plain": [
       "                            Name  num of establishments\n",
       "0           ALWAYS OPEN - SUBWAY                      1\n",
       "1                     C-K SUBWAY                      1\n",
       "2                   CITGO SUBWAY                      1\n",
       "3           DOWNTOWN BP & SUBWAY                      1\n",
       "4       FULLWEST BP GAS & SUBWAY                      1\n",
       "5                LALO SUBWAY INC                      1\n",
       "6             LINCOLN AVE SUBWAY                      1\n",
       "7                Lakeview Subway                      1\n",
       "8             MADISON SUBWAY LLC                      1\n",
       "9                         SUBWAY                    213\n",
       "10                SUBWAY  #38326                      1\n",
       "11                  SUBWAY  5183                      1\n",
       "12                SUBWAY # 23333                      1\n",
       "13                SUBWAY # 26771                      1\n",
       "14  SUBWAY # 26817-309 W. MONROE                      1"
      ]
     },
     "execution_count": 99,
     "metadata": {},
     "output_type": "execute_result"
    }
   ],
   "source": [
    "Q = '''\n",
    "SELECT estName as Name, COUNT(estName) as 'num of establishments'\n",
    "    FROM Establishments\n",
    "    WHERE Name LIKE '%subway%'\n",
    "    GROUP BY Name\n",
    "'''\n",
    "cur.execute(Q)\n",
    "df = pd.read_sql_query(Q, db_dirty)\n",
    "df.head(15)"
   ]
  },
  {
   "cell_type": "markdown",
   "metadata": {},
   "source": [
    "### **AFTER**\n",
    "\n",
    "With the use of Open Refine, the different spellings of **SUBWAY** can be grouped under one. \n",
    "\n",
    "The query now shows how **SUBWAY** is represented in the dataset *after* cleaning in Open Refine."
   ]
  },
  {
   "cell_type": "code",
   "execution_count": 100,
   "metadata": {},
   "outputs": [
    {
     "data": {
      "text/html": [
       "<div>\n",
       "<style scoped>\n",
       "    .dataframe tbody tr th:only-of-type {\n",
       "        vertical-align: middle;\n",
       "    }\n",
       "\n",
       "    .dataframe tbody tr th {\n",
       "        vertical-align: top;\n",
       "    }\n",
       "\n",
       "    .dataframe thead th {\n",
       "        text-align: right;\n",
       "    }\n",
       "</style>\n",
       "<table border=\"1\" class=\"dataframe\">\n",
       "  <thead>\n",
       "    <tr style=\"text-align: right;\">\n",
       "      <th></th>\n",
       "      <th>Name</th>\n",
       "      <th>num_of_establishments</th>\n",
       "    </tr>\n",
       "  </thead>\n",
       "  <tbody>\n",
       "    <tr>\n",
       "      <th>0</th>\n",
       "      <td>SUBWAY</td>\n",
       "      <td>287</td>\n",
       "    </tr>\n",
       "  </tbody>\n",
       "</table>\n",
       "</div>"
      ],
      "text/plain": [
       "     Name  num_of_establishments\n",
       "0  SUBWAY                    287"
      ]
     },
     "execution_count": 100,
     "metadata": {},
     "output_type": "execute_result"
    }
   ],
   "source": [
    "Q = '''\n",
    "SELECT estName as Name, COUNT(estName) as 'num of establishments'\n",
    "    FROM Establishments\n",
    "    WHERE Name LIKE '%subway'\n",
    "    GROUP BY Name\n",
    "'''\n",
    "cur.execute(Q)\n",
    "df = pd.read_sql_query(Q, db_clean)\n",
    "df.head(10)"
   ]
  },
  {
   "cell_type": "markdown",
   "metadata": {},
   "source": [
    "## **VIOLATIONS**\n",
    "---"
   ]
  },
  {
   "cell_type": "code",
   "execution_count": 101,
   "metadata": {},
   "outputs": [
    {
     "data": {
      "text/plain": [
       "Index(['Inspection ID', 'DBA Name', 'AKA Name', 'License #', 'Facility Type',\n",
       "       'Risk', 'Address', 'City', 'State', 'Zip', 'Inspection Date',\n",
       "       'Inspection Type', 'Results', 'Violations', 'Latitude', 'Longitude',\n",
       "       'Location'],\n",
       "      dtype='object')"
      ]
     },
     "execution_count": 101,
     "metadata": {},
     "output_type": "execute_result"
    }
   ],
   "source": [
    "import pandas as pd\n",
    "import numpy as np\n",
    "\n",
    "# import dirty data\n",
    "food_ins_df = pd.read_csv(\"../data/dirty_data/Food_Inspections.csv\")\n",
    "food_ins_df.columns"
   ]
  },
  {
   "cell_type": "markdown",
   "metadata": {},
   "source": [
    "### **OVERVIEW**\n",
    "The Violations columns contains a lot of unstructured information. There are *three* distinct parts to each violation.\n",
    "\n",
    "1. Health Code Violation Number\n",
    "\n",
    "2. Violation Description\n",
    "\n",
    "3. Comments\n",
    "\n",
    "**EXAMPLE**\n",
    "\n",
    "    8. sanitizing rinse for equipment and utensils:  clean, proper temperature, concentration, exposure time - comments: no dish washing facilities on site, (no three compartment sink, with grease trap, or dishmachine), instructed to provide, | 11. adequate number, convenient, accessible, designed, and maintained - comments:  no exposed hand sink for rear service area, instructed to provide, | 18. no evidence of rodent or insect outer openings protected/rodent proofed, a written log shall be maintained available to the inspectors - comments: no license pest control log book at this time of inspection, instructed to provide, upon next visit"
   ]
  },
  {
   "cell_type": "markdown",
   "metadata": {},
   "source": [
    "### **WEIRD CASES**\n",
    "1. Sometimes violations have pretext like 'Serious Violation <number>' (row 6) or 'Critical Violation <number>' (row 6)\n",
    "\n",
    "2. A list of old violations can appear in the comments (row 6)"
   ]
  },
  {
   "cell_type": "markdown",
   "metadata": {},
   "source": [
    "#### **ASSUMPTIONS**\n",
    "1. We are able to convert violations text to lowercase and lose no important meaning\n",
    "\n",
    "2. We are able to use Regex to pull the numbers. All numbers match the pattern r'\\d+\\.' (number followed by period)\n",
    "\n",
    "3. We are able to split the Violations on the number found before\n",
    "\n",
    "4. We are able to split the violations description from comments on the string '- comments:'"
   ]
  },
  {
   "cell_type": "markdown",
   "metadata": {},
   "source": [
    "##### **ASSUMPTION 1**\n",
    "Not sure how to test this, looking through the data though I think this assumption is good. There doesn't seem to be any reason some things are all caps and others are not. I'm guessing these entries are copied directly from some PDF that is in all caps (lots of legal documents are)."
   ]
  },
  {
   "cell_type": "markdown",
   "metadata": {},
   "source": [
    "##### **ASSUMPTION 2**\n",
    "\n",
    "**GOOD ASSUMPTION**: using the BELOW regex, we are able to capture numbers in each row"
   ]
  },
  {
   "cell_type": "code",
   "execution_count": 102,
   "metadata": {},
   "outputs": [
    {
     "name": "stdout",
     "output_type": "stream",
     "text": [
      "There are 30798 null values for Violations\n",
      "rows left 123012\n",
      "Rows with numbers: 123012\n"
     ]
    }
   ],
   "source": [
    "sec_assump_test = food_ins_df[['Violations']]\n",
    "total_rows = sec_assump_test.shape[0]\n",
    "sec_assump_test = sec_assump_test[sec_assump_test['Violations'].notna()]\n",
    "print(f'There are {total_rows - sec_assump_test.shape[0]} null values for Violations')\n",
    "print(f'rows left {sec_assump_test.shape[0]}')\n",
    "num_reg = r'(?:^|\\| )\\d+\\. '\n",
    "contains_num = sec_assump_test['Violations'].str.contains(num_reg, regex=True)\n",
    "print(f'Rows with numbers: {contains_num.sum()}')\n",
    "assert sec_assump_test.shape[0] == contains_num.sum()"
   ]
  },
  {
   "cell_type": "markdown",
   "metadata": {},
   "source": [
    "##### **ASSUMPTION 3**\n",
    "\n",
    "**GOOD ASSUMPTION**: splitting on the regex creates the same number of violation numbers and violation text"
   ]
  },
  {
   "cell_type": "code",
   "execution_count": 103,
   "metadata": {},
   "outputs": [],
   "source": [
    "num_reg = r'(?:^|\\| )(\\d+\\. )'\n",
    "third_assump_test = food_ins_df[food_ins_df['Violations'].notna()][['Violations']]\n",
    "nums = third_assump_test['Violations'].str.extractall(num_reg)\n",
    "third_assump_test['v_num'] = nums.groupby(level=0)[0].apply(list)\n",
    "third_assump_test['list_violations'] = third_assump_test['Violations'].str.split(r'(?:^|\\| )\\d+\\. ', regex=True).apply(lambda x: x[1:])\n",
    "# get counts for the lists in each row for violations and violation numbers, ensure they are the same\n",
    "num_violations = third_assump_test['list_violations'].apply(lambda x: len(x))\n",
    "num_violations_nums = third_assump_test['v_num'].apply(lambda x: len(x))\n",
    "assert num_violations.equals(num_violations_nums)\n",
    "third_assump_test[1:1000].to_csv('test.csv')"
   ]
  },
  {
   "cell_type": "markdown",
   "metadata": {},
   "source": [
    "##### **ASSUMPTION 4**\n",
    "\n",
    "**GOOD ASSUMPTION**: with the previous preprocessing, all rows have comments"
   ]
  },
  {
   "cell_type": "code",
   "execution_count": 94,
   "metadata": {},
   "outputs": [],
   "source": [
    "fourth_assump_test = third_assump_test.explode(['list_violations', 'v_num'])\n",
    "fourth_assump_test['list_violations'] = fourth_assump_test['list_violations'].str.lower()\n",
    "has_comments = fourth_assump_test['list_violations'].str.contains('- comments:')\n",
    "assert fourth_assump_test.shape[0] == has_comments.sum()"
   ]
  },
  {
   "cell_type": "markdown",
   "metadata": {},
   "source": [
    "### **CLEANED VIOLATIONS IN PRACTICE**\n",
    "Below is a function that can be used to clean the violations."
   ]
  },
  {
   "cell_type": "code",
   "execution_count": 95,
   "metadata": {},
   "outputs": [
    {
     "name": "stdout",
     "output_type": "stream",
     "text": [
      "rows: 599452\n"
     ]
    }
   ],
   "source": [
    "def clean_violations(df: pd.DataFrame): \n",
    "  df['Violations'] = df['Violations'].str.lower()\n",
    "  mask = df['Violations'].notna()\n",
    "  # create violation number column\n",
    "  num_reg = r'(?:^|\\| )(\\d+\\. )'\n",
    "  vio_nums = df.loc[mask, 'Violations'].str.extractall(num_reg)\n",
    "  df.loc[mask, 'v_num'] = vio_nums.groupby(level=0)[0].apply(list)\n",
    "  # create violation_temp\n",
    "  split_reg = r'(?:^|\\| )\\d+\\. '\n",
    "  df.loc[mask, 'vio_temp'] = df.loc[mask, 'Violations'].str.split(split_reg, regex=True).apply(lambda x: x[1:])\n",
    "  # split into individual rows for violations\n",
    "  df = df.explode(['vio_temp', 'v_num']).reset_index(drop=True)\n",
    "  exp_mask = df['Violations'].notna()\n",
    "  # create comment and desc violation columns\n",
    "  desc_split_reg = '- comments:'\n",
    "  df.loc[exp_mask, 'v_comment'] = df.loc[exp_mask, 'vio_temp'].str.split(desc_split_reg).apply(lambda x: x[-1] if len(x) > 1 else np.nan)\n",
    "  df.loc[exp_mask, 'v_desc'] = df.loc[exp_mask, 'vio_temp'].str.split(desc_split_reg).apply(lambda x: x[0])\n",
    "  df = df.drop(columns=['vio_temp'])\n",
    "  return df\n",
    "\n",
    "clean_vios = clean_violations(food_ins_df)\n",
    "print(f'rows: {clean_vios.shape[0]}')"
   ]
  },
  {
   "cell_type": "markdown",
   "metadata": {},
   "source": [
    "#### **VIOLATIONS IN THE DATABASE**\n",
    "Additionally, the dirty database will show the three parts of the violation in one column; while the cleaned database will divide the three parts of the violations into three columns. "
   ]
  },
  {
   "cell_type": "markdown",
   "metadata": {},
   "source": [
    "**BEFORE**"
   ]
  },
  {
   "cell_type": "code",
   "execution_count": 96,
   "metadata": {},
   "outputs": [
    {
     "data": {
      "text/html": [
       "<div>\n",
       "<style scoped>\n",
       "    .dataframe tbody tr th:only-of-type {\n",
       "        vertical-align: middle;\n",
       "    }\n",
       "\n",
       "    .dataframe tbody tr th {\n",
       "        vertical-align: top;\n",
       "    }\n",
       "\n",
       "    .dataframe thead th {\n",
       "        text-align: right;\n",
       "    }\n",
       "</style>\n",
       "<table border=\"1\" class=\"dataframe\">\n",
       "  <thead>\n",
       "    <tr style=\"text-align: right;\">\n",
       "      <th></th>\n",
       "      <th>inspecID</th>\n",
       "      <th>result</th>\n",
       "      <th>violations</th>\n",
       "    </tr>\n",
       "  </thead>\n",
       "  <tbody>\n",
       "    <tr>\n",
       "      <th>0</th>\n",
       "      <td>2079132</td>\n",
       "      <td>Pass</td>\n",
       "      <td>None</td>\n",
       "    </tr>\n",
       "    <tr>\n",
       "      <th>1</th>\n",
       "      <td>2079129</td>\n",
       "      <td>Not Ready</td>\n",
       "      <td>None</td>\n",
       "    </tr>\n",
       "    <tr>\n",
       "      <th>2</th>\n",
       "      <td>2079125</td>\n",
       "      <td>Not Ready</td>\n",
       "      <td>8. SANITIZING RINSE FOR EQUIPMENT AND UTENSILS...</td>\n",
       "    </tr>\n",
       "    <tr>\n",
       "      <th>3</th>\n",
       "      <td>2079123</td>\n",
       "      <td>Pass</td>\n",
       "      <td>35. WALLS, CEILINGS, ATTACHED EQUIPMENT CONSTR...</td>\n",
       "    </tr>\n",
       "    <tr>\n",
       "      <th>4</th>\n",
       "      <td>2079105</td>\n",
       "      <td>Pass</td>\n",
       "      <td>18. NO EVIDENCE OF RODENT OR INSECT OUTER OPEN...</td>\n",
       "    </tr>\n",
       "    <tr>\n",
       "      <th>5</th>\n",
       "      <td>2079104</td>\n",
       "      <td>Fail</td>\n",
       "      <td>2. FACILITIES TO MAINTAIN PROPER TEMPERATURE -...</td>\n",
       "    </tr>\n",
       "    <tr>\n",
       "      <th>6</th>\n",
       "      <td>2079091</td>\n",
       "      <td>Fail</td>\n",
       "      <td>2. FACILITIES TO MAINTAIN PROPER TEMPERATURE -...</td>\n",
       "    </tr>\n",
       "    <tr>\n",
       "      <th>7</th>\n",
       "      <td>2079087</td>\n",
       "      <td>Fail</td>\n",
       "      <td>12. HAND WASHING FACILITIES: WITH SOAP AND SAN...</td>\n",
       "    </tr>\n",
       "    <tr>\n",
       "      <th>8</th>\n",
       "      <td>2079083</td>\n",
       "      <td>Pass</td>\n",
       "      <td>18. NO EVIDENCE OF RODENT OR INSECT OUTER OPEN...</td>\n",
       "    </tr>\n",
       "    <tr>\n",
       "      <th>9</th>\n",
       "      <td>2079036</td>\n",
       "      <td>Out of Business</td>\n",
       "      <td>None</td>\n",
       "    </tr>\n",
       "  </tbody>\n",
       "</table>\n",
       "</div>"
      ],
      "text/plain": [
       "   inspecID           result  \\\n",
       "0   2079132             Pass   \n",
       "1   2079129        Not Ready   \n",
       "2   2079125        Not Ready   \n",
       "3   2079123             Pass   \n",
       "4   2079105             Pass   \n",
       "5   2079104             Fail   \n",
       "6   2079091             Fail   \n",
       "7   2079087             Fail   \n",
       "8   2079083             Pass   \n",
       "9   2079036  Out of Business   \n",
       "\n",
       "                                          violations  \n",
       "0                                               None  \n",
       "1                                               None  \n",
       "2  8. SANITIZING RINSE FOR EQUIPMENT AND UTENSILS...  \n",
       "3  35. WALLS, CEILINGS, ATTACHED EQUIPMENT CONSTR...  \n",
       "4  18. NO EVIDENCE OF RODENT OR INSECT OUTER OPEN...  \n",
       "5  2. FACILITIES TO MAINTAIN PROPER TEMPERATURE -...  \n",
       "6  2. FACILITIES TO MAINTAIN PROPER TEMPERATURE -...  \n",
       "7  12. HAND WASHING FACILITIES: WITH SOAP AND SAN...  \n",
       "8  18. NO EVIDENCE OF RODENT OR INSECT OUTER OPEN...  \n",
       "9                                               None  "
      ]
     },
     "execution_count": 96,
     "metadata": {},
     "output_type": "execute_result"
    }
   ],
   "source": [
    "Q = '''\n",
    "SELECT * \n",
    "    FROM Inspections\n",
    "'''\n",
    "cur.execute(Q)\n",
    "df = pd.read_sql_query(Q, db_dirty)\n",
    "df.head(10)"
   ]
  },
  {
   "cell_type": "markdown",
   "metadata": {},
   "source": [
    "**AFTER**"
   ]
  },
  {
   "cell_type": "code",
   "execution_count": 97,
   "metadata": {},
   "outputs": [
    {
     "data": {
      "text/html": [
       "<div>\n",
       "<style scoped>\n",
       "    .dataframe tbody tr th:only-of-type {\n",
       "        vertical-align: middle;\n",
       "    }\n",
       "\n",
       "    .dataframe tbody tr th {\n",
       "        vertical-align: top;\n",
       "    }\n",
       "\n",
       "    .dataframe thead th {\n",
       "        text-align: right;\n",
       "    }\n",
       "</style>\n",
       "<table border=\"1\" class=\"dataframe\">\n",
       "  <thead>\n",
       "    <tr style=\"text-align: right;\">\n",
       "      <th></th>\n",
       "      <th>inspecID</th>\n",
       "      <th>result</th>\n",
       "      <th>number</th>\n",
       "      <th>comments</th>\n",
       "      <th>description</th>\n",
       "    </tr>\n",
       "  </thead>\n",
       "  <tbody>\n",
       "    <tr>\n",
       "      <th>0</th>\n",
       "      <td>2079132</td>\n",
       "      <td>Pass</td>\n",
       "      <td>NaN</td>\n",
       "      <td>None</td>\n",
       "      <td>None</td>\n",
       "    </tr>\n",
       "    <tr>\n",
       "      <th>1</th>\n",
       "      <td>2079129</td>\n",
       "      <td>Not Ready</td>\n",
       "      <td>NaN</td>\n",
       "      <td>None</td>\n",
       "      <td>None</td>\n",
       "    </tr>\n",
       "    <tr>\n",
       "      <th>2</th>\n",
       "      <td>2079125</td>\n",
       "      <td>Not Ready</td>\n",
       "      <td>8.0</td>\n",
       "      <td>no dish washing facilities on site, (no three...</td>\n",
       "      <td>sanitizing rinse for equipment and utensils:  ...</td>\n",
       "    </tr>\n",
       "    <tr>\n",
       "      <th>3</th>\n",
       "      <td>2079125</td>\n",
       "      <td>Not Ready</td>\n",
       "      <td>11.0</td>\n",
       "      <td>no exposed hand sink for rear service area, ...</td>\n",
       "      <td>adequate number, convenient, accessible, desig...</td>\n",
       "    </tr>\n",
       "    <tr>\n",
       "      <th>4</th>\n",
       "      <td>2079125</td>\n",
       "      <td>Not Ready</td>\n",
       "      <td>18.0</td>\n",
       "      <td>no license pest control log book at this time...</td>\n",
       "      <td>no evidence of rodent or insect outer openings...</td>\n",
       "    </tr>\n",
       "    <tr>\n",
       "      <th>5</th>\n",
       "      <td>2079123</td>\n",
       "      <td>Pass</td>\n",
       "      <td>35.0</td>\n",
       "      <td>must provide overhead protection for coffee/t...</td>\n",
       "      <td>walls, ceilings, attached equipment constructe...</td>\n",
       "    </tr>\n",
       "    <tr>\n",
       "      <th>6</th>\n",
       "      <td>2079123</td>\n",
       "      <td>Pass</td>\n",
       "      <td>34.0</td>\n",
       "      <td>floors at coffee/tea stations must be made sm...</td>\n",
       "      <td>floors: constructed per code, cleaned, good re...</td>\n",
       "    </tr>\n",
       "    <tr>\n",
       "      <th>7</th>\n",
       "      <td>2079105</td>\n",
       "      <td>Pass</td>\n",
       "      <td>18.0</td>\n",
       "      <td>violation corrected</td>\n",
       "      <td>no evidence of rodent or insect outer openings...</td>\n",
       "    </tr>\n",
       "    <tr>\n",
       "      <th>8</th>\n",
       "      <td>2079105</td>\n",
       "      <td>Pass</td>\n",
       "      <td>31.0</td>\n",
       "      <td>inspector comments: must invert plastic wear ...</td>\n",
       "      <td>clean multi-use utensils and single service ar...</td>\n",
       "    </tr>\n",
       "    <tr>\n",
       "      <th>9</th>\n",
       "      <td>2079105</td>\n",
       "      <td>Pass</td>\n",
       "      <td>34.0</td>\n",
       "      <td>inspector comments: must clean debris from fl...</td>\n",
       "      <td>floors: constructed per code, cleaned, good re...</td>\n",
       "    </tr>\n",
       "  </tbody>\n",
       "</table>\n",
       "</div>"
      ],
      "text/plain": [
       "   inspecID     result  number  \\\n",
       "0   2079132       Pass     NaN   \n",
       "1   2079129  Not Ready     NaN   \n",
       "2   2079125  Not Ready     8.0   \n",
       "3   2079125  Not Ready    11.0   \n",
       "4   2079125  Not Ready    18.0   \n",
       "5   2079123       Pass    35.0   \n",
       "6   2079123       Pass    34.0   \n",
       "7   2079105       Pass    18.0   \n",
       "8   2079105       Pass    31.0   \n",
       "9   2079105       Pass    34.0   \n",
       "\n",
       "                                            comments  \\\n",
       "0                                               None   \n",
       "1                                               None   \n",
       "2   no dish washing facilities on site, (no three...   \n",
       "3    no exposed hand sink for rear service area, ...   \n",
       "4   no license pest control log book at this time...   \n",
       "5   must provide overhead protection for coffee/t...   \n",
       "6   floors at coffee/tea stations must be made sm...   \n",
       "7                               violation corrected    \n",
       "8   inspector comments: must invert plastic wear ...   \n",
       "9   inspector comments: must clean debris from fl...   \n",
       "\n",
       "                                         description  \n",
       "0                                               None  \n",
       "1                                               None  \n",
       "2  sanitizing rinse for equipment and utensils:  ...  \n",
       "3  adequate number, convenient, accessible, desig...  \n",
       "4  no evidence of rodent or insect outer openings...  \n",
       "5  walls, ceilings, attached equipment constructe...  \n",
       "6  floors: constructed per code, cleaned, good re...  \n",
       "7  no evidence of rodent or insect outer openings...  \n",
       "8  clean multi-use utensils and single service ar...  \n",
       "9  floors: constructed per code, cleaned, good re...  "
      ]
     },
     "execution_count": 97,
     "metadata": {},
     "output_type": "execute_result"
    }
   ],
   "source": [
    "Q = '''\n",
    "SELECT * \n",
    "    FROM Inspections\n",
    "'''\n",
    "cur.execute(Q)\n",
    "df = pd.read_sql_query(Q, db_clean)\n",
    "df.head(10)"
   ]
  },
  {
   "cell_type": "code",
   "execution_count": 98,
   "metadata": {},
   "outputs": [],
   "source": [
    "#db_dirty.close()\n",
    "#db_clean.close()"
   ]
  }
 ],
 "metadata": {
  "kernelspec": {
   "display_name": "Python 3.10.4 ('python_env': venv)",
   "language": "python",
   "name": "python3"
  },
  "language_info": {
   "codemirror_mode": {
    "name": "ipython",
    "version": 3
   },
   "file_extension": ".py",
   "mimetype": "text/x-python",
   "name": "python",
   "nbconvert_exporter": "python",
   "pygments_lexer": "ipython3",
   "version": "3.10.4"
  },
  "orig_nbformat": 4,
  "vscode": {
   "interpreter": {
    "hash": "d2d609173ad082c7ff5cb3cd6dcfb139b58fd9f0168a432c49fd752c46a2c26f"
   }
  }
 },
 "nbformat": 4,
 "nbformat_minor": 2
}
