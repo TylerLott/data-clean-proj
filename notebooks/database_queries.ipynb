{
 "cells": [
  {
   "cell_type": "markdown",
   "metadata": {},
   "source": [
    "# Database Queries"
   ]
  },
  {
   "cell_type": "code",
   "execution_count": 26,
   "metadata": {},
   "outputs": [],
   "source": [
    "import sqlite3\n",
    "db = sqlite3.connect('../data/food_inspections.db')\n",
    "cur = db.cursor()"
   ]
  },
  {
   "cell_type": "code",
   "execution_count": 27,
   "metadata": {},
   "outputs": [
    {
     "name": "stdout",
     "output_type": "stream",
     "text": [
      "(6858875850335691760, 'SUBWAY', 5822)\n",
      "(3685013796310758215, 'DUNKIN DONUTS', 3226)\n",
      "(7010666959874199357, \"MCDONALD'S\", 1692)\n",
      "(4925505014519130655, '7-ELEVEN', 1238)\n",
      "(2288676560843121918, 'MCDONALDS', 899)\n",
      "(75417141565093085, 'CORNER BAKERY CAFE', 717)\n",
      "(4758096793533180341, 'SEE THRU CHINESE KITCHEN', 711)\n",
      "(6955971296777298280, \"HAROLD'S CHICKEN SHACK\", 679)\n",
      "(346919119252738185, 'CHIPOTLE MEXICAN GRILL', 679)\n",
      "(4226866282425718521, 'DUNKIN DONUTS/BASKIN ROBBINS', 611)\n"
     ]
    }
   ],
   "source": [
    "# U_1 Query\n",
    "Q = '''\n",
    "SELECT r.id, r.akaName, COUNT(ins.number) AS amount_of_violations\n",
    "FROM (select * FROM Inspections) AS ins\n",
    "INNER JOIN RestaurantInspections AS ri\n",
    "ON ins.inspectionId = ri.inspectionId\n",
    "INNER JOIN Restaurants AS r\n",
    "ON r.id = ri.id\n",
    "GROUP BY r.id\n",
    "ORDER BY amount_of_violations DESC\n",
    "'''\n",
    "cur.execute(Q)\n",
    "# top 10 worst places\n",
    "for i in range(10):\n",
    "  print(cur.fetchone())"
   ]
  },
  {
   "cell_type": "code",
   "execution_count": 10,
   "metadata": {},
   "outputs": [],
   "source": [
    "db.close()"
   ]
  }
 ],
 "metadata": {
  "kernelspec": {
   "display_name": "Python 3.10.4 ('python_env': venv)",
   "language": "python",
   "name": "python3"
  },
  "language_info": {
   "codemirror_mode": {
    "name": "ipython",
    "version": 3
   },
   "file_extension": ".py",
   "mimetype": "text/x-python",
   "name": "python",
   "nbconvert_exporter": "python",
   "pygments_lexer": "ipython3",
   "version": "3.10.4"
  },
  "orig_nbformat": 4,
  "vscode": {
   "interpreter": {
    "hash": "1e0dfc38e87bfd5e2d7e24c92a44e99cdc169bbcd5f4e92854cdad604f7521bb"
   }
  }
 },
 "nbformat": 4,
 "nbformat_minor": 2
}
