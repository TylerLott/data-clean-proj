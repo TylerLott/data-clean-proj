{
 "cells": [
  {
   "cell_type": "markdown",
   "metadata": {},
   "source": [
    "# Database Queries"
   ]
  },
  {
   "cell_type": "code",
   "execution_count": 28,
   "metadata": {},
   "outputs": [],
   "source": [
    "import sqlite3\n",
    "import pandas as pd\n",
    "db = sqlite3.connect('../data/food_inspections.db')\n",
    "cur = db.cursor()"
   ]
  },
  {
   "cell_type": "code",
   "execution_count": 30,
   "metadata": {},
   "outputs": [
    {
     "data": {
      "text/html": [
       "<div>\n",
       "<style scoped>\n",
       "    .dataframe tbody tr th:only-of-type {\n",
       "        vertical-align: middle;\n",
       "    }\n",
       "\n",
       "    .dataframe tbody tr th {\n",
       "        vertical-align: top;\n",
       "    }\n",
       "\n",
       "    .dataframe thead th {\n",
       "        text-align: right;\n",
       "    }\n",
       "</style>\n",
       "<table border=\"1\" class=\"dataframe\">\n",
       "  <thead>\n",
       "    <tr style=\"text-align: right;\">\n",
       "      <th></th>\n",
       "      <th>id</th>\n",
       "      <th>akaName</th>\n",
       "      <th>amount_of_violations</th>\n",
       "    </tr>\n",
       "  </thead>\n",
       "  <tbody>\n",
       "    <tr>\n",
       "      <th>0</th>\n",
       "      <td>6858875850335691760</td>\n",
       "      <td>SUBWAY</td>\n",
       "      <td>5822</td>\n",
       "    </tr>\n",
       "    <tr>\n",
       "      <th>1</th>\n",
       "      <td>3685013796310758215</td>\n",
       "      <td>DUNKIN DONUTS</td>\n",
       "      <td>3226</td>\n",
       "    </tr>\n",
       "    <tr>\n",
       "      <th>2</th>\n",
       "      <td>7010666959874199357</td>\n",
       "      <td>MCDONALD'S</td>\n",
       "      <td>1692</td>\n",
       "    </tr>\n",
       "    <tr>\n",
       "      <th>3</th>\n",
       "      <td>4925505014519130655</td>\n",
       "      <td>7-ELEVEN</td>\n",
       "      <td>1238</td>\n",
       "    </tr>\n",
       "    <tr>\n",
       "      <th>4</th>\n",
       "      <td>2288676560843121918</td>\n",
       "      <td>MCDONALDS</td>\n",
       "      <td>899</td>\n",
       "    </tr>\n",
       "  </tbody>\n",
       "</table>\n",
       "</div>"
      ],
      "text/plain": [
       "                    id        akaName  amount_of_violations\n",
       "0  6858875850335691760         SUBWAY                  5822\n",
       "1  3685013796310758215  DUNKIN DONUTS                  3226\n",
       "2  7010666959874199357     MCDONALD'S                  1692\n",
       "3  4925505014519130655       7-ELEVEN                  1238\n",
       "4  2288676560843121918      MCDONALDS                   899"
      ]
     },
     "execution_count": 30,
     "metadata": {},
     "output_type": "execute_result"
    }
   ],
   "source": [
    "# U_1 Query\n",
    "Q = '''\n",
    "SELECT r.id, r.akaName, COUNT(ins.number) AS amount_of_violations\n",
    "FROM (select * FROM Inspections) AS ins\n",
    "INNER JOIN RestaurantInspections AS ri\n",
    "ON ins.inspectionId = ri.inspectionId\n",
    "INNER JOIN Restaurants AS r\n",
    "ON r.id = ri.id\n",
    "GROUP BY r.id\n",
    "ORDER BY amount_of_violations DESC\n",
    "'''\n",
    "cur.execute(Q)\n",
    "df = pd.read_sql_query(Q, db)\n",
    "df.head()"
   ]
  },
  {
   "cell_type": "code",
   "execution_count": 10,
   "metadata": {},
   "outputs": [],
   "source": [
    "db.close()"
   ]
  }
 ],
 "metadata": {
  "kernelspec": {
   "display_name": "Python 3.10.4 ('python_env': venv)",
   "language": "python",
   "name": "python3"
  },
  "language_info": {
   "codemirror_mode": {
    "name": "ipython",
    "version": 3
   },
   "file_extension": ".py",
   "mimetype": "text/x-python",
   "name": "python",
   "nbconvert_exporter": "python",
   "pygments_lexer": "ipython3",
   "version": "3.10.4"
  },
  "orig_nbformat": 4,
  "vscode": {
   "interpreter": {
    "hash": "1e0dfc38e87bfd5e2d7e24c92a44e99cdc169bbcd5f4e92854cdad604f7521bb"
   }
  }
 },
 "nbformat": 4,
 "nbformat_minor": 2
}
