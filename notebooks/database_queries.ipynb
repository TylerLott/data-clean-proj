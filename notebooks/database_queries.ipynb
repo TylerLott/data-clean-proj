{
 "cells": [
  {
   "cell_type": "markdown",
   "metadata": {},
   "source": [
    "# Database Queries"
   ]
  },
  {
   "cell_type": "code",
   "execution_count": 12,
   "metadata": {},
   "outputs": [],
   "source": [
    "import sqlite3\n",
    "db = sqlite3.connect('../data/food_inspections.db')\n",
    "cur = db.cursor()"
   ]
  },
  {
   "cell_type": "code",
   "execution_count": 25,
   "metadata": {},
   "outputs": [
    {
     "name": "stdout",
     "output_type": "stream",
     "text": [
      "('SUBWAY', 6858875850335691760, 5822)\n",
      "('DUNKIN DONUTS', 3685013796310758215, 3226)\n",
      "(\"MCDONALD'S\", 7010666959874199357, 1692)\n",
      "('7-ELEVEN', 4925505014519130655, 1238)\n",
      "('MCDONALDS', 2288676560843121918, 899)\n",
      "('CORNER BAKERY CAFE', 75417141565093085, 717)\n",
      "('SEE THRU CHINESE KITCHEN', 4758096793533180341, 711)\n",
      "(\"HAROLD'S CHICKEN SHACK\", 6955971296777298280, 679)\n",
      "('CHIPOTLE MEXICAN GRILL', 346919119252738185, 679)\n",
      "('DUNKIN DONUTS/BASKIN ROBBINS', 4226866282425718521, 611)\n"
     ]
    }
   ],
   "source": [
    "Q = '''\n",
    "SELECT r.akaName, r.id, COUNT(i.number) FROM (SELECT * FROM RestaurantInspections) AS ri \n",
    "INNER JOIN Restaurants AS r\n",
    "ON ri.id=r.id \n",
    "INNER JOIN Inspections AS i\n",
    "ON i.inspectionId=ri.inspectionId\n",
    "GROUP BY r.id\n",
    "ORDER BY COUNT(i.number) DESC\n",
    "'''\n",
    "cur.execute(Q)\n",
    "# top 10 worst places\n",
    "for i in range(10):\n",
    "  print(cur.fetchone())"
   ]
  },
  {
   "cell_type": "code",
   "execution_count": 10,
   "metadata": {},
   "outputs": [],
   "source": [
    "db.close()"
   ]
  }
 ],
 "metadata": {
  "kernelspec": {
   "display_name": "Python 3.10.4 ('python_env': venv)",
   "language": "python",
   "name": "python3"
  },
  "language_info": {
   "codemirror_mode": {
    "name": "ipython",
    "version": 3
   },
   "file_extension": ".py",
   "mimetype": "text/x-python",
   "name": "python",
   "nbconvert_exporter": "python",
   "pygments_lexer": "ipython3",
   "version": "3.10.4"
  },
  "orig_nbformat": 4,
  "vscode": {
   "interpreter": {
    "hash": "1e0dfc38e87bfd5e2d7e24c92a44e99cdc169bbcd5f4e92854cdad604f7521bb"
   }
  }
 },
 "nbformat": 4,
 "nbformat_minor": 2
}
