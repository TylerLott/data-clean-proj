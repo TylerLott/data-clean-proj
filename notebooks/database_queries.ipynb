{
 "cells": [
  {
   "cell_type": "markdown",
   "metadata": {},
   "source": [
    "# Database Queries"
   ]
  },
  {
   "cell_type": "code",
   "execution_count": 35,
   "metadata": {},
   "outputs": [],
   "source": [
    "import sqlite3\n",
    "import pandas as pd\n",
    "db = sqlite3.connect('../data/food_inspections.db')\n",
    "cur = db.cursor()"
   ]
  },
  {
   "cell_type": "code",
   "execution_count": 36,
   "metadata": {},
   "outputs": [
    {
     "data": {
      "text/html": [
       "<div>\n",
       "<style scoped>\n",
       "    .dataframe tbody tr th:only-of-type {\n",
       "        vertical-align: middle;\n",
       "    }\n",
       "\n",
       "    .dataframe tbody tr th {\n",
       "        vertical-align: top;\n",
       "    }\n",
       "\n",
       "    .dataframe thead th {\n",
       "        text-align: right;\n",
       "    }\n",
       "</style>\n",
       "<table border=\"1\" class=\"dataframe\">\n",
       "  <thead>\n",
       "    <tr style=\"text-align: right;\">\n",
       "      <th></th>\n",
       "      <th>akaName</th>\n",
       "      <th>amount_of_violations</th>\n",
       "    </tr>\n",
       "  </thead>\n",
       "  <tbody>\n",
       "    <tr>\n",
       "      <th>0</th>\n",
       "      <td>TAQUERIA EL RANCHITO</td>\n",
       "      <td>288</td>\n",
       "    </tr>\n",
       "    <tr>\n",
       "      <th>1</th>\n",
       "      <td>JIMMY G'S</td>\n",
       "      <td>259</td>\n",
       "    </tr>\n",
       "    <tr>\n",
       "      <th>2</th>\n",
       "      <td>NICKY'S CHINESE FOOD</td>\n",
       "      <td>228</td>\n",
       "    </tr>\n",
       "    <tr>\n",
       "      <th>3</th>\n",
       "      <td>CHICAGO'S HOME OF CHICKEN &amp; WAFFLES</td>\n",
       "      <td>219</td>\n",
       "    </tr>\n",
       "    <tr>\n",
       "      <th>4</th>\n",
       "      <td>FOOD 4 LESS</td>\n",
       "      <td>214</td>\n",
       "    </tr>\n",
       "    <tr>\n",
       "      <th>5</th>\n",
       "      <td>FOOD 4 LESS</td>\n",
       "      <td>213</td>\n",
       "    </tr>\n",
       "    <tr>\n",
       "      <th>6</th>\n",
       "      <td>NUEVO LEON RESTAURANT</td>\n",
       "      <td>211</td>\n",
       "    </tr>\n",
       "    <tr>\n",
       "      <th>7</th>\n",
       "      <td>IYANZE</td>\n",
       "      <td>211</td>\n",
       "    </tr>\n",
       "    <tr>\n",
       "      <th>8</th>\n",
       "      <td>PIZZA CAPRI</td>\n",
       "      <td>206</td>\n",
       "    </tr>\n",
       "    <tr>\n",
       "      <th>9</th>\n",
       "      <td>DAATA DARBAR</td>\n",
       "      <td>205</td>\n",
       "    </tr>\n",
       "  </tbody>\n",
       "</table>\n",
       "</div>"
      ],
      "text/plain": [
       "                               akaName  amount_of_violations\n",
       "0                 TAQUERIA EL RANCHITO                   288\n",
       "1                            JIMMY G'S                   259\n",
       "2                 NICKY'S CHINESE FOOD                   228\n",
       "3  CHICAGO'S HOME OF CHICKEN & WAFFLES                   219\n",
       "4                          FOOD 4 LESS                   214\n",
       "5                          FOOD 4 LESS                   213\n",
       "6                NUEVO LEON RESTAURANT                   211\n",
       "7                               IYANZE                   211\n",
       "8                          PIZZA CAPRI                   206\n",
       "9                         DAATA DARBAR                   205"
      ]
     },
     "execution_count": 36,
     "metadata": {},
     "output_type": "execute_result"
    }
   ],
   "source": [
    "# U_1 Query\n",
    "Q = '''\n",
    "SELECT r.akaName, COUNT(ins.number) AS amount_of_violations\n",
    "  FROM (select * FROM Inspections) AS ins\n",
    "  INNER JOIN RestaurantInspections AS ri\n",
    "  ON ins.inspectionId = ri.inspectionId\n",
    "  INNER JOIN Restaurants AS r\n",
    "  ON r.id = ri.id\n",
    "  GROUP BY r.id\n",
    "  ORDER BY amount_of_violations DESC\n",
    "'''\n",
    "cur.execute(Q)\n",
    "df = pd.read_sql_query(Q, db)\n",
    "df.head(10)"
   ]
  },
  {
   "cell_type": "code",
   "execution_count": 37,
   "metadata": {},
   "outputs": [],
   "source": [
    "db.close()"
   ]
  }
 ],
 "metadata": {
  "kernelspec": {
   "display_name": "Python 3.10.4 ('python_env': venv)",
   "language": "python",
   "name": "python3"
  },
  "language_info": {
   "codemirror_mode": {
    "name": "ipython",
    "version": 3
   },
   "file_extension": ".py",
   "mimetype": "text/x-python",
   "name": "python",
   "nbconvert_exporter": "python",
   "pygments_lexer": "ipython3",
   "version": "3.10.4"
  },
  "orig_nbformat": 4,
  "vscode": {
   "interpreter": {
    "hash": "1e0dfc38e87bfd5e2d7e24c92a44e99cdc169bbcd5f4e92854cdad604f7521bb"
   }
  }
 },
 "nbformat": 4,
 "nbformat_minor": 2
}
