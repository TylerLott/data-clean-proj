{
 "cells": [
  {
   "cell_type": "markdown",
   "metadata": {},
   "source": [
    "# Database Queries\n",
    "\n",
    "This notebook checks the integrity constraints and fundemenatal dependecies in the cleaned database."
   ]
  },
  {
   "cell_type": "code",
   "execution_count": 1,
   "metadata": {},
   "outputs": [],
   "source": [
    "import sqlite3\n",
    "import pandas as pd\n",
    "db = sqlite3.connect('../data/food_inspections.db')\n",
    "cur = db.cursor()"
   ]
  },
  {
   "cell_type": "code",
   "execution_count": 2,
   "metadata": {},
   "outputs": [
    {
     "ename": "OperationalError",
     "evalue": "no such table: RestaurantInspections",
     "output_type": "error",
     "traceback": [
      "\u001b[0;31m---------------------------------------------------------------------------\u001b[0m",
      "\u001b[0;31mOperationalError\u001b[0m                          Traceback (most recent call last)",
      "\u001b[1;32m/Users/Anastasia/Documents/Anastasia/Masters/Classes/CS-513/Final Project/Phase 2/data-clean-proj/notebooks/database_queries.ipynb Cell 3\u001b[0m in \u001b[0;36m<cell line: 12>\u001b[0;34m()\u001b[0m\n\u001b[1;32m      <a href='vscode-notebook-cell:/Users/Anastasia/Documents/Anastasia/Masters/Classes/CS-513/Final%20Project/Phase%202/data-clean-proj/notebooks/database_queries.ipynb#ch0000002?line=0'>1</a>\u001b[0m \u001b[39m# U_1 Query\u001b[39;00m\n\u001b[1;32m      <a href='vscode-notebook-cell:/Users/Anastasia/Documents/Anastasia/Masters/Classes/CS-513/Final%20Project/Phase%202/data-clean-proj/notebooks/database_queries.ipynb#ch0000002?line=1'>2</a>\u001b[0m Q \u001b[39m=\u001b[39m \u001b[39m'''\u001b[39m\n\u001b[1;32m      <a href='vscode-notebook-cell:/Users/Anastasia/Documents/Anastasia/Masters/Classes/CS-513/Final%20Project/Phase%202/data-clean-proj/notebooks/database_queries.ipynb#ch0000002?line=2'>3</a>\u001b[0m \u001b[39mSELECT r.akaName, COUNT(ins.number) AS amount_of_violations\u001b[39m\n\u001b[1;32m      <a href='vscode-notebook-cell:/Users/Anastasia/Documents/Anastasia/Masters/Classes/CS-513/Final%20Project/Phase%202/data-clean-proj/notebooks/database_queries.ipynb#ch0000002?line=3'>4</a>\u001b[0m \u001b[39m  FROM (select * FROM Inspections) AS ins\u001b[39m\n\u001b[0;32m   (...)\u001b[0m\n\u001b[1;32m     <a href='vscode-notebook-cell:/Users/Anastasia/Documents/Anastasia/Masters/Classes/CS-513/Final%20Project/Phase%202/data-clean-proj/notebooks/database_queries.ipynb#ch0000002?line=9'>10</a>\u001b[0m \u001b[39m  ORDER BY amount_of_violations DESC\u001b[39m\n\u001b[1;32m     <a href='vscode-notebook-cell:/Users/Anastasia/Documents/Anastasia/Masters/Classes/CS-513/Final%20Project/Phase%202/data-clean-proj/notebooks/database_queries.ipynb#ch0000002?line=10'>11</a>\u001b[0m \u001b[39m'''\u001b[39m\n\u001b[0;32m---> <a href='vscode-notebook-cell:/Users/Anastasia/Documents/Anastasia/Masters/Classes/CS-513/Final%20Project/Phase%202/data-clean-proj/notebooks/database_queries.ipynb#ch0000002?line=11'>12</a>\u001b[0m cur\u001b[39m.\u001b[39;49mexecute(Q)\n\u001b[1;32m     <a href='vscode-notebook-cell:/Users/Anastasia/Documents/Anastasia/Masters/Classes/CS-513/Final%20Project/Phase%202/data-clean-proj/notebooks/database_queries.ipynb#ch0000002?line=12'>13</a>\u001b[0m df \u001b[39m=\u001b[39m pd\u001b[39m.\u001b[39mread_sql_query(Q, db)\n\u001b[1;32m     <a href='vscode-notebook-cell:/Users/Anastasia/Documents/Anastasia/Masters/Classes/CS-513/Final%20Project/Phase%202/data-clean-proj/notebooks/database_queries.ipynb#ch0000002?line=13'>14</a>\u001b[0m df\u001b[39m.\u001b[39mhead(\u001b[39m10\u001b[39m)\n",
      "\u001b[0;31mOperationalError\u001b[0m: no such table: RestaurantInspections"
     ]
    }
   ],
   "source": [
    "# \n",
    "Q = '''\n",
    "SELECT r.akaName, COUNT(ins.number) AS amount_of_violations\n",
    "  FROM (select * FROM Inspections) AS ins\n",
    "  INNER JOIN RestaurantInspections AS ri\n",
    "  ON ins.inspectionId = ri.inspectionId\n",
    "  INNER JOIN Restaurants AS r\n",
    "  ON r.id = ri.id\n",
    "  GROUP BY r.id\n",
    "  ORDER BY amount_of_violations DESC\n",
    "'''\n",
    "cur.execute(Q)\n",
    "df = pd.read_sql_query(Q, db)\n",
    "df.head(10)"
   ]
  },
  {
   "cell_type": "code",
   "execution_count": null,
   "metadata": {},
   "outputs": [
    {
     "data": {
      "text/html": [
       "<div>\n",
       "<style scoped>\n",
       "    .dataframe tbody tr th:only-of-type {\n",
       "        vertical-align: middle;\n",
       "    }\n",
       "\n",
       "    .dataframe tbody tr th {\n",
       "        vertical-align: top;\n",
       "    }\n",
       "\n",
       "    .dataframe thead th {\n",
       "        text-align: right;\n",
       "    }\n",
       "</style>\n",
       "<table border=\"1\" class=\"dataframe\">\n",
       "  <thead>\n",
       "    <tr style=\"text-align: right;\">\n",
       "      <th></th>\n",
       "      <th>akaName</th>\n",
       "      <th>amount_of_violations</th>\n",
       "    </tr>\n",
       "  </thead>\n",
       "  <tbody>\n",
       "    <tr>\n",
       "      <th>0</th>\n",
       "      <td>SUBWAY</td>\n",
       "      <td>7029</td>\n",
       "    </tr>\n",
       "    <tr>\n",
       "      <th>1</th>\n",
       "      <td>None</td>\n",
       "      <td>6620</td>\n",
       "    </tr>\n",
       "    <tr>\n",
       "      <th>2</th>\n",
       "      <td>DUNKIN DONUTS</td>\n",
       "      <td>3667</td>\n",
       "    </tr>\n",
       "    <tr>\n",
       "      <th>3</th>\n",
       "      <td>MCDONALD'S</td>\n",
       "      <td>2306</td>\n",
       "    </tr>\n",
       "    <tr>\n",
       "      <th>4</th>\n",
       "      <td>7-ELEVEN</td>\n",
       "      <td>2062</td>\n",
       "    </tr>\n",
       "    <tr>\n",
       "      <th>5</th>\n",
       "      <td>MCDONALDS</td>\n",
       "      <td>1050</td>\n",
       "    </tr>\n",
       "    <tr>\n",
       "      <th>6</th>\n",
       "      <td>CITGO</td>\n",
       "      <td>1026</td>\n",
       "    </tr>\n",
       "    <tr>\n",
       "      <th>7</th>\n",
       "      <td>BURGER KING</td>\n",
       "      <td>1008</td>\n",
       "    </tr>\n",
       "    <tr>\n",
       "      <th>8</th>\n",
       "      <td>DUNKIN DONUTS/BASKIN ROBBINS</td>\n",
       "      <td>893</td>\n",
       "    </tr>\n",
       "    <tr>\n",
       "      <th>9</th>\n",
       "      <td>SEE THRU CHINESE KITCHEN</td>\n",
       "      <td>768</td>\n",
       "    </tr>\n",
       "  </tbody>\n",
       "</table>\n",
       "</div>"
      ],
      "text/plain": [
       "                        akaName  amount_of_violations\n",
       "0                        SUBWAY                  7029\n",
       "1                          None                  6620\n",
       "2                 DUNKIN DONUTS                  3667\n",
       "3                    MCDONALD'S                  2306\n",
       "4                      7-ELEVEN                  2062\n",
       "5                     MCDONALDS                  1050\n",
       "6                         CITGO                  1026\n",
       "7                   BURGER KING                  1008\n",
       "8  DUNKIN DONUTS/BASKIN ROBBINS                   893\n",
       "9      SEE THRU CHINESE KITCHEN                   768"
      ]
     },
     "execution_count": 4,
     "metadata": {},
     "output_type": "execute_result"
    }
   ],
   "source": [
    "# Query Sorted by Name of the Restaurant\n",
    "Q = '''\n",
    "SELECT r.akaName, COUNT(ins.number) AS amount_of_violations\n",
    "  FROM (select * FROM Inspections) AS ins\n",
    "  INNER JOIN RestaurantInspections AS ri\n",
    "  ON ins.inspectionId = ri.inspectionId\n",
    "  INNER JOIN Restaurants AS r\n",
    "  ON r.id = ri.id\n",
    "  GROUP BY r.akaName\n",
    "  ORDER BY amount_of_violations DESC\n",
    "'''\n",
    "cur.execute(Q)\n",
    "df = pd.read_sql_query(Q, db)\n",
    "df.head(10)"
   ]
  },
  {
   "cell_type": "code",
   "execution_count": null,
   "metadata": {},
   "outputs": [],
   "source": [
    "db.close()"
   ]
  }
 ],
 "metadata": {
  "kernelspec": {
   "display_name": "Python 3.10.4 ('python_env': venv)",
   "language": "python",
   "name": "python3"
  },
  "language_info": {
   "codemirror_mode": {
    "name": "ipython",
    "version": 3
   },
   "file_extension": ".py",
   "mimetype": "text/x-python",
   "name": "python",
   "nbconvert_exporter": "python",
   "pygments_lexer": "ipython3",
   "version": "3.10.4"
  },
  "orig_nbformat": 4,
  "vscode": {
   "interpreter": {
    "hash": "d2d609173ad082c7ff5cb3cd6dcfb139b58fd9f0168a432c49fd752c46a2c26f"
   }
  }
 },
 "nbformat": 4,
 "nbformat_minor": 2
}
