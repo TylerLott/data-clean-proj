{
 "cells": [
  {
   "cell_type": "markdown",
   "metadata": {},
   "source": [
    "# **USE CASE QUERIES**\n",
    "---\n",
    "This notebook runs the queries necessary to show adequate cleaning and support of our use case. "
   ]
  },
  {
   "cell_type": "markdown",
   "metadata": {},
   "source": [
    "### **USE CASE** \n",
    "**Which establishments, in D, have the most food inspection violations?**\n",
    "\n",
    "* Only the failed inspections matter, therefore, a violations is only counted against the establishment when the inspection was also failed.\n",
    "\n",
    "* Each row is a specific establishment at a unique location."
   ]
  },
  {
   "cell_type": "markdown",
   "metadata": {},
   "source": [
    "## **BEFORE CLEANING**\n",
    "---"
   ]
  },
  {
   "cell_type": "code",
   "execution_count": null,
   "metadata": {},
   "outputs": [],
   "source": [
    "import sqlite3\n",
    "import pandas as pd\n",
    "db_dirty = sqlite3.connect('../data/dirty_data/dirty_food_inspections.db')\n",
    "cur = db_dirty.cursor()"
   ]
  },
  {
   "cell_type": "code",
   "execution_count": null,
   "metadata": {},
   "outputs": [],
   "source": [
    "Q = '''\n",
    "SELECT est.estName as Name, COUNT(inspec.violations) AS violations\n",
    "  FROM Inspections AS inspec\n",
    "  INNER JOIN EstablishmentInspections AS ei\n",
    "  ON inspec.inspecID = ei.inspecID\n",
    "  INNER JOIN Establishments AS est\n",
    "  ON est.estID = ei.estID\n",
    "  WHERE inspec.result = \"Fail\"\n",
    "  GROUP BY est.estID\n",
    "  ORDER BY violations DESC\n",
    "'''\n",
    "cur.execute(Q)\n",
    "df = pd.read_sql_query(Q, db_dirty)\n",
    "df.head(20)"
   ]
  },
  {
   "cell_type": "markdown",
   "metadata": {},
   "source": [
    "## **AFTER CLEANING**\n",
    "---"
   ]
  },
  {
   "cell_type": "code",
   "execution_count": null,
   "metadata": {},
   "outputs": [],
   "source": [
    "import sqlite3\n",
    "import pandas as pd\n",
    "db_clean = sqlite3.connect('../data/clean_data/food_inspections.db')\n",
    "cur = db_clean.cursor()"
   ]
  },
  {
   "cell_type": "code",
   "execution_count": null,
   "metadata": {},
   "outputs": [],
   "source": [
    "Q = '''\n",
    "SELECT est.estName as Name, COUNT(inspec.number) AS violations\n",
    "  FROM Inspections as inspec\n",
    "  INNER JOIN EstablishmentInspections AS ei\n",
    "  ON inspec.inspecID = ei.inspecID\n",
    "  INNER JOIN Establishments AS est\n",
    "  ON est.estID = ei.estID\n",
    "  WHERE inspec.result = \"Fail\"\n",
    "  GROUP BY est.estID\n",
    "  ORDER BY violations DESC\n",
    "'''\n",
    "cur.execute(Q)\n",
    "df = pd.read_sql_query(Q, db_clean)\n",
    "df.head(20)"
   ]
  },
  {
   "cell_type": "code",
   "execution_count": null,
   "metadata": {},
   "outputs": [],
   "source": [
    "db_dirty.close()\n",
    "db_clean.close()"
   ]
  }
 ],
 "metadata": {
  "kernelspec": {
   "display_name": "Python 3 (ipykernel)",
   "language": "python",
   "name": "python3"
  },
  "language_info": {
   "codemirror_mode": {
    "name": "ipython",
    "version": 3
   },
   "file_extension": ".py",
   "mimetype": "text/x-python",
   "name": "python",
   "nbconvert_exporter": "python",
   "pygments_lexer": "ipython3",
   "version": "3.10.4"
  },
  "vscode": {
   "interpreter": {
    "hash": "d2d609173ad082c7ff5cb3cd6dcfb139b58fd9f0168a432c49fd752c46a2c26f"
   }
  }
 },
 "nbformat": 4,
 "nbformat_minor": 2
}
